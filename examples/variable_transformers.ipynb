{
 "cells": [
  {
   "cell_type": "markdown",
   "metadata": {},
   "source": [
    "# Variable transformers\n",
    "\n",
    "In this notebook, find examples of how to use the mathematical transformers available in Feature-engine.\n",
    "\n",
    "**For this demonstration, we use the Ames House Prices dataset produced by Professor Dean De Cock:**\n",
    "\n",
    "Dean De Cock (2011) Ames, Iowa: Alternative to the Boston Housing\n",
    "Data as an End of Semester Regression Project, Journal of Statistics Education, Vol.19, No. 3\n",
    "\n",
    "http://jse.amstat.org/v19n3/decock.pdf\n",
    "\n",
    "https://www.tandfonline.com/doi/abs/10.1080/10691898.2011.11889627\n",
    "\n",
    "The version of the dataset used in this notebook can be obtained from [Kaggle](https://www.kaggle.com/c/house-prices-advanced-regression-techniques/data)"
   ]
  },
  {
   "cell_type": "code",
   "execution_count": 1,
   "metadata": {},
   "outputs": [],
   "source": [
    "import pandas as pd\n",
    "import numpy as np\n",
    "\n",
    "import matplotlib.pyplot as plt\n",
    "\n",
    "from sklearn.model_selection import train_test_split\n",
    "\n",
    "from feature_engine import variable_transformers as vt"
   ]
  },
  {
   "cell_type": "code",
   "execution_count": 2,
   "metadata": {},
   "outputs": [
    {
     "data": {
      "text/html": [
       "<div>\n",
       "<style scoped>\n",
       "    .dataframe tbody tr th:only-of-type {\n",
       "        vertical-align: middle;\n",
       "    }\n",
       "\n",
       "    .dataframe tbody tr th {\n",
       "        vertical-align: top;\n",
       "    }\n",
       "\n",
       "    .dataframe thead th {\n",
       "        text-align: right;\n",
       "    }\n",
       "</style>\n",
       "<table border=\"1\" class=\"dataframe\">\n",
       "  <thead>\n",
       "    <tr style=\"text-align: right;\">\n",
       "      <th></th>\n",
       "      <th>Id</th>\n",
       "      <th>MSSubClass</th>\n",
       "      <th>MSZoning</th>\n",
       "      <th>LotFrontage</th>\n",
       "      <th>LotArea</th>\n",
       "      <th>Street</th>\n",
       "      <th>Alley</th>\n",
       "      <th>LotShape</th>\n",
       "      <th>LandContour</th>\n",
       "      <th>Utilities</th>\n",
       "      <th>...</th>\n",
       "      <th>PoolArea</th>\n",
       "      <th>PoolQC</th>\n",
       "      <th>Fence</th>\n",
       "      <th>MiscFeature</th>\n",
       "      <th>MiscVal</th>\n",
       "      <th>MoSold</th>\n",
       "      <th>YrSold</th>\n",
       "      <th>SaleType</th>\n",
       "      <th>SaleCondition</th>\n",
       "      <th>SalePrice</th>\n",
       "    </tr>\n",
       "  </thead>\n",
       "  <tbody>\n",
       "    <tr>\n",
       "      <th>0</th>\n",
       "      <td>1</td>\n",
       "      <td>60</td>\n",
       "      <td>RL</td>\n",
       "      <td>65.0</td>\n",
       "      <td>8450</td>\n",
       "      <td>Pave</td>\n",
       "      <td>NaN</td>\n",
       "      <td>Reg</td>\n",
       "      <td>Lvl</td>\n",
       "      <td>AllPub</td>\n",
       "      <td>...</td>\n",
       "      <td>0</td>\n",
       "      <td>NaN</td>\n",
       "      <td>NaN</td>\n",
       "      <td>NaN</td>\n",
       "      <td>0</td>\n",
       "      <td>2</td>\n",
       "      <td>2008</td>\n",
       "      <td>WD</td>\n",
       "      <td>Normal</td>\n",
       "      <td>208500</td>\n",
       "    </tr>\n",
       "    <tr>\n",
       "      <th>1</th>\n",
       "      <td>2</td>\n",
       "      <td>20</td>\n",
       "      <td>RL</td>\n",
       "      <td>80.0</td>\n",
       "      <td>9600</td>\n",
       "      <td>Pave</td>\n",
       "      <td>NaN</td>\n",
       "      <td>Reg</td>\n",
       "      <td>Lvl</td>\n",
       "      <td>AllPub</td>\n",
       "      <td>...</td>\n",
       "      <td>0</td>\n",
       "      <td>NaN</td>\n",
       "      <td>NaN</td>\n",
       "      <td>NaN</td>\n",
       "      <td>0</td>\n",
       "      <td>5</td>\n",
       "      <td>2007</td>\n",
       "      <td>WD</td>\n",
       "      <td>Normal</td>\n",
       "      <td>181500</td>\n",
       "    </tr>\n",
       "    <tr>\n",
       "      <th>2</th>\n",
       "      <td>3</td>\n",
       "      <td>60</td>\n",
       "      <td>RL</td>\n",
       "      <td>68.0</td>\n",
       "      <td>11250</td>\n",
       "      <td>Pave</td>\n",
       "      <td>NaN</td>\n",
       "      <td>IR1</td>\n",
       "      <td>Lvl</td>\n",
       "      <td>AllPub</td>\n",
       "      <td>...</td>\n",
       "      <td>0</td>\n",
       "      <td>NaN</td>\n",
       "      <td>NaN</td>\n",
       "      <td>NaN</td>\n",
       "      <td>0</td>\n",
       "      <td>9</td>\n",
       "      <td>2008</td>\n",
       "      <td>WD</td>\n",
       "      <td>Normal</td>\n",
       "      <td>223500</td>\n",
       "    </tr>\n",
       "    <tr>\n",
       "      <th>3</th>\n",
       "      <td>4</td>\n",
       "      <td>70</td>\n",
       "      <td>RL</td>\n",
       "      <td>60.0</td>\n",
       "      <td>9550</td>\n",
       "      <td>Pave</td>\n",
       "      <td>NaN</td>\n",
       "      <td>IR1</td>\n",
       "      <td>Lvl</td>\n",
       "      <td>AllPub</td>\n",
       "      <td>...</td>\n",
       "      <td>0</td>\n",
       "      <td>NaN</td>\n",
       "      <td>NaN</td>\n",
       "      <td>NaN</td>\n",
       "      <td>0</td>\n",
       "      <td>2</td>\n",
       "      <td>2006</td>\n",
       "      <td>WD</td>\n",
       "      <td>Abnorml</td>\n",
       "      <td>140000</td>\n",
       "    </tr>\n",
       "    <tr>\n",
       "      <th>4</th>\n",
       "      <td>5</td>\n",
       "      <td>60</td>\n",
       "      <td>RL</td>\n",
       "      <td>84.0</td>\n",
       "      <td>14260</td>\n",
       "      <td>Pave</td>\n",
       "      <td>NaN</td>\n",
       "      <td>IR1</td>\n",
       "      <td>Lvl</td>\n",
       "      <td>AllPub</td>\n",
       "      <td>...</td>\n",
       "      <td>0</td>\n",
       "      <td>NaN</td>\n",
       "      <td>NaN</td>\n",
       "      <td>NaN</td>\n",
       "      <td>0</td>\n",
       "      <td>12</td>\n",
       "      <td>2008</td>\n",
       "      <td>WD</td>\n",
       "      <td>Normal</td>\n",
       "      <td>250000</td>\n",
       "    </tr>\n",
       "  </tbody>\n",
       "</table>\n",
       "<p>5 rows × 81 columns</p>\n",
       "</div>"
      ],
      "text/plain": [
       "   Id  MSSubClass MSZoning  LotFrontage  LotArea Street Alley LotShape  \\\n",
       "0   1          60       RL         65.0     8450   Pave   NaN      Reg   \n",
       "1   2          20       RL         80.0     9600   Pave   NaN      Reg   \n",
       "2   3          60       RL         68.0    11250   Pave   NaN      IR1   \n",
       "3   4          70       RL         60.0     9550   Pave   NaN      IR1   \n",
       "4   5          60       RL         84.0    14260   Pave   NaN      IR1   \n",
       "\n",
       "  LandContour Utilities  ... PoolArea PoolQC Fence MiscFeature MiscVal MoSold  \\\n",
       "0         Lvl    AllPub  ...        0    NaN   NaN         NaN       0      2   \n",
       "1         Lvl    AllPub  ...        0    NaN   NaN         NaN       0      5   \n",
       "2         Lvl    AllPub  ...        0    NaN   NaN         NaN       0      9   \n",
       "3         Lvl    AllPub  ...        0    NaN   NaN         NaN       0      2   \n",
       "4         Lvl    AllPub  ...        0    NaN   NaN         NaN       0     12   \n",
       "\n",
       "  YrSold  SaleType  SaleCondition  SalePrice  \n",
       "0   2008        WD         Normal     208500  \n",
       "1   2007        WD         Normal     181500  \n",
       "2   2008        WD         Normal     223500  \n",
       "3   2006        WD        Abnorml     140000  \n",
       "4   2008        WD         Normal     250000  \n",
       "\n",
       "[5 rows x 81 columns]"
      ]
     },
     "execution_count": 2,
     "metadata": {},
     "output_type": "execute_result"
    }
   ],
   "source": [
    "data = pd.read_csv('houseprice.csv')\n",
    "data.head()"
   ]
  },
  {
   "cell_type": "code",
   "execution_count": 3,
   "metadata": {},
   "outputs": [
    {
     "data": {
      "text/plain": [
       "((1022, 79), (438, 79))"
      ]
     },
     "execution_count": 3,
     "metadata": {},
     "output_type": "execute_result"
    }
   ],
   "source": [
    "# let's separate into training and testing set\n",
    "\n",
    "X_train, X_test, y_train, y_test = train_test_split(\n",
    "    data.drop(['Id', 'SalePrice'], axis=1), data['SalePrice'], test_size=0.3, random_state=0)\n",
    "\n",
    "X_train.shape, X_test.shape"
   ]
  },
  {
   "cell_type": "markdown",
   "metadata": {},
   "source": [
    "## LogTransformer"
   ]
  },
  {
   "cell_type": "code",
   "execution_count": 4,
   "metadata": {},
   "outputs": [
    {
     "data": {
      "text/plain": [
       "<matplotlib.axes._subplots.AxesSubplot at 0x9a49a324a8>"
      ]
     },
     "execution_count": 4,
     "metadata": {},
     "output_type": "execute_result"
    },
    {
     "data": {
      "image/png": "[encoded data removed]",
      "text/plain": [
       "<Figure size 432x288 with 1 Axes>"
      ]
     },
     "metadata": {
      "needs_background": "light"
     },
     "output_type": "display_data"
    }
   ],
   "source": [
    "X_train['LotArea'].hist(bins=50)"
   ]
  },
  {
   "cell_type": "code",
   "execution_count": 5,
   "metadata": {},
   "outputs": [
    {
     "data": {
      "text/plain": [
       "<matplotlib.axes._subplots.AxesSubplot at 0x9a49b6bfd0>"
      ]
     },
     "execution_count": 5,
     "metadata": {},
     "output_type": "execute_result"
    },
    {
     "data": {
      "image/png": "[encoded data removed]",
      "text/plain": [
       "<Figure size 432x288 with 1 Axes>"
      ]
     },
     "metadata": {
      "needs_background": "light"
     },
     "output_type": "display_data"
    }
   ],
   "source": [
    "X_train['GrLivArea'].hist(bins=50)"
   ]
  },
  {
   "cell_type": "code",
   "execution_count": 6,
   "metadata": {},
   "outputs": [
    {
     "data": {
      "text/plain": [
       "LogTransformer(variables=['LotArea', 'GrLivArea'])"
      ]
     },
     "execution_count": 6,
     "metadata": {},
     "output_type": "execute_result"
    }
   ],
   "source": [
    "lt = vt.LogTransformer(variables = ['LotArea', 'GrLivArea'])\n",
    "\n",
    "lt.fit(X_train)"
   ]
  },
  {
   "cell_type": "code",
   "execution_count": 7,
   "metadata": {},
   "outputs": [
    {
     "data": {
      "text/plain": [
       "['LotArea', 'GrLivArea']"
      ]
     },
     "execution_count": 7,
     "metadata": {},
     "output_type": "execute_result"
    }
   ],
   "source": [
    "# variables that will be transformed\n",
    "lt.variables"
   ]
  },
  {
   "cell_type": "code",
   "execution_count": 8,
   "metadata": {},
   "outputs": [],
   "source": [
    "train_t = lt.transform(X_train)\n",
    "test_t = lt.transform(X_test)"
   ]
  },
  {
   "cell_type": "code",
   "execution_count": 9,
   "metadata": {},
   "outputs": [
    {
     "data": {
      "text/plain": [
       "<matplotlib.axes._subplots.AxesSubplot at 0x9a49f2b4a8>"
      ]
     },
     "execution_count": 9,
     "metadata": {},
     "output_type": "execute_result"
    },
    {
     "data": {
      "image/png": "[encoded data removed]",
      "text/plain": [
       "<Figure size 432x288 with 1 Axes>"
      ]
     },
     "metadata": {
      "needs_background": "light"
     },
     "output_type": "display_data"
    }
   ],
   "source": [
    "# transformed variable\n",
    "train_t['GrLivArea'].hist(bins=50)"
   ]
  },
  {
   "cell_type": "code",
   "execution_count": 10,
   "metadata": {},
   "outputs": [
    {
     "data": {
      "text/plain": [
       "<matplotlib.axes._subplots.AxesSubplot at 0x9a49dc6a58>"
      ]
     },
     "execution_count": 10,
     "metadata": {},
     "output_type": "execute_result"
    },
    {
     "data": {
      "image/png": "[encoded data removed]",
      "text/plain": [
       "<Figure size 432x288 with 1 Axes>"
      ]
     },
     "metadata": {
      "needs_background": "light"
     },
     "output_type": "display_data"
    }
   ],
   "source": [
    "# transformed variable\n",
    "train_t['LotArea'].hist(bins=50)"
   ]
  },
  {
   "cell_type": "markdown",
   "metadata": {},
   "source": [
    "## ReciprocalTransformer"
   ]
  },
  {
   "cell_type": "code",
   "execution_count": 30,
   "metadata": {},
   "outputs": [
    {
     "data": {
      "text/plain": [
       "ReciprocalTransformer(variables=['LotArea', 'GrLivArea'])"
      ]
     },
     "execution_count": 30,
     "metadata": {},
     "output_type": "execute_result"
    }
   ],
   "source": [
    "rt = vt.ReciprocalTransformer(variables = ['LotArea', 'GrLivArea'])\n",
    "\n",
    "rt.fit(X_train)"
   ]
  },
  {
   "cell_type": "code",
   "execution_count": 31,
   "metadata": {},
   "outputs": [],
   "source": [
    "train_t = rt.transform(X_train)\n",
    "test_t = rt.transform(X_test)"
   ]
  },
  {
   "cell_type": "code",
   "execution_count": 32,
   "metadata": {},
   "outputs": [
    {
     "data": {
      "text/plain": [
       "array([0.00049164, 0.00077459, 0.0011655 , 0.00079491, 0.00228311,\n",
       "       0.00071429, 0.00104822, 0.00069204, 0.00093284, 0.00060096,\n",
       "       0.0004686 , 0.00031309, 0.00054825, 0.00056948, 0.00109649,\n",
       "       0.00066269, 0.00062189, 0.00075988, 0.00098522, 0.00088183,\n",
       "       0.00061125, 0.00075758, 0.00047037, 0.00088652, 0.0007657 ,\n",
       "       0.00074405, 0.00039154, 0.00111982, 0.00051733, 0.00082102,\n",
       "       0.00050787, 0.00047847, 0.00067385, 0.00060386, 0.00081699,\n",
       "       0.00048685, 0.00117096, 0.00091575, 0.00078864, 0.00060205,\n",
       "       0.00059952, 0.00066979, 0.00107296, 0.00078309, 0.00065359,\n",
       "       0.00116279, 0.00076104, 0.00050968, 0.00067114, 0.00117925,\n",
       "       0.0014881 , 0.00042735, 0.00067613, 0.00081566, 0.00047916,\n",
       "       0.00086356, 0.00086655, 0.00058005, 0.00060314, 0.0008881 ,\n",
       "       0.00071788, 0.00029011, 0.00101317, 0.00073801, 0.00048333,\n",
       "       0.00066622, 0.00050607, 0.0006398 , 0.00090009, 0.00066578,\n",
       "       0.00057703, 0.00036657, 0.00076805, 0.00065617, 0.00062972,\n",
       "       0.00088889, 0.00083333, 0.00060976, 0.00047015, 0.00102881,\n",
       "       0.00049505, 0.00087413, 0.00073964, 0.00051975, 0.00085911,\n",
       "       0.00105042, 0.00042409, 0.00059524, 0.00052301, 0.00099602,\n",
       "       0.00081301, 0.0008569 , 0.00076864, 0.00068823, 0.00062461,\n",
       "       0.00091324, 0.00095238, 0.00104167, 0.00068681, 0.00067159,\n",
       "       0.00057937, 0.00048031, 0.00074683, 0.00040816, 0.00053677,\n",
       "       0.00130208, 0.00299401, 0.00088028, 0.00074794, 0.00055188,\n",
       "       0.0004562 , 0.00084459, 0.00052938, 0.00075358, 0.00070323,\n",
       "       0.00061275, 0.0006135 , 0.00065531, 0.00096154, 0.00060716,\n",
       "       0.0005048 , 0.00060827, 0.0003885 , 0.00074074, 0.00104384,\n",
       "       0.00054113, 0.00061728, 0.00067249, 0.00112108, 0.00124378,\n",
       "       0.00087719, 0.00055679, 0.00049261, 0.00049826, 0.00144718,\n",
       "       0.00062893, 0.00053908, 0.00055432, 0.00056561, 0.00027571,\n",
       "       0.00077042, 0.00055525, 0.0015873 , 0.00090662, 0.0008489 ,\n",
       "       0.00083612, 0.00072886, 0.00069881, 0.00051203, 0.00089206,\n",
       "       0.00040437, 0.00094607, 0.0009009 , 0.00044053, 0.00049554,\n",
       "       0.0007215 , 0.00043764, 0.00058207, 0.00092081, 0.00064309,\n",
       "       0.00052576, 0.00039777, 0.00094877, 0.00038285, 0.00110865,\n",
       "       0.00042499, 0.00071839, 0.0008658 , 0.00052521, 0.00073421,\n",
       "       0.00043649, 0.0007593 , 0.0005767 , 0.00083752, 0.00070621,\n",
       "       0.00072307, 0.0004995 , 0.00066845, 0.00062344, 0.0013089 ,\n",
       "       0.00057737, 0.00066934, 0.0010142 , 0.00087336, 0.00064977,\n",
       "       0.00039936, 0.00133869, 0.00047687, 0.00021386, 0.00085034,\n",
       "       0.00138889, 0.00063291, 0.00069444, 0.00067751, 0.00066667,\n",
       "       0.00074184, 0.00071736, 0.0003811 , 0.00058962, 0.0003667 ,\n",
       "       0.00115741, 0.00058514, 0.0006006 , 0.00037793, 0.00058858,\n",
       "       0.00060132, 0.0005787 , 0.00054201, 0.00054025, 0.00079618,\n",
       "       0.00122549, 0.00054945, 0.00093897, 0.00082781, 0.0004029 ,\n",
       "       0.0005814 , 0.00119048, 0.0007728 , 0.00091743, 0.00044189,\n",
       "       0.00103199, 0.00111857, 0.00097276, 0.00051073, 0.0005571 ,\n",
       "       0.00051546, 0.00067476, 0.00070028, 0.00068027, 0.00089606,\n",
       "       0.00077101, 0.00089847, 0.00064641, 0.00051361, 0.00058241,\n",
       "       0.00095057, 0.00049677, 0.00078989, 0.00034868, 0.00044326,\n",
       "       0.00070721, 0.00058106, 0.00064433, 0.00089445, 0.0004085 ,\n",
       "       0.00067889, 0.00085763, 0.00072993, 0.00055494, 0.00042644,\n",
       "       0.00093633, 0.00061843, 0.00080386, 0.00084746, 0.00081766,\n",
       "       0.00059312, 0.00060753, 0.00055648, 0.00053619, 0.00094697,\n",
       "       0.00031847, 0.00082508, 0.00059032, 0.00066181, 0.00043668,\n",
       "       0.00045809, 0.00031037, 0.00058275, 0.00074516, 0.00066489,\n",
       "       0.00050201, 0.00079872, 0.001001  , 0.00073368, 0.00085837,\n",
       "       0.00042088, 0.00064893, 0.0008726 , 0.00044964, 0.0007446 ,\n",
       "       0.00040783, 0.00050582, 0.00056593, 0.00075529, 0.00068587,\n",
       "       0.00063492, 0.00055928, 0.00109529, 0.00048239, 0.00069396,\n",
       "       0.00059172, 0.00069589, 0.00046382, 0.00089928, 0.00044583,\n",
       "       0.00075301, 0.00103306, 0.00071633, 0.00053879, 0.00046275,\n",
       "       0.00062422, 0.00060241, 0.00059137, 0.00132979, 0.00055804,\n",
       "       0.00061501, 0.00028629, 0.00060533, 0.0007837 , 0.00083893,\n",
       "       0.00113122, 0.00048497, 0.00120919, 0.00049529, 0.00076687,\n",
       "       0.00073099, 0.00062305, 0.0008    , 0.00061576, 0.00118343,\n",
       "       0.00071994, 0.00078802, 0.00068871, 0.00096246, 0.00083056,\n",
       "       0.00089526, 0.00045537, 0.00101523, 0.00061387, 0.00067705,\n",
       "       0.00102041, 0.00043573, 0.00045434, 0.00048123, 0.00125   ,\n",
       "       0.00063371, 0.0005176 , 0.00066357, 0.00111111, 0.00057143,\n",
       "       0.00041701, 0.00050813, 0.00065104, 0.00030979, 0.00046533,\n",
       "       0.00037879, 0.00059453, 0.00047664, 0.00091158, 0.00052083,\n",
       "       0.00049237, 0.00124533, 0.00053505, 0.00053022, 0.00208333,\n",
       "       0.0007716 , 0.00039683, 0.00038447, 0.00063412, 0.00103093,\n",
       "       0.00049116, 0.00097466, 0.00143266, 0.00065232, 0.00072359,\n",
       "       0.00071891, 0.00092764, 0.00069348, 0.00050916, 0.00063211,\n",
       "       0.00042882, 0.00056306, 0.00099206, 0.00056054, 0.00090253,\n",
       "       0.00058343, 0.00113379, 0.00082169, 0.0010101 , 0.00073046,\n",
       "       0.00039139, 0.00080192, 0.00034819, 0.0005423 , 0.00050736,\n",
       "       0.00055556, 0.00051308, 0.00078493, 0.00065789, 0.00077821,\n",
       "       0.0005168 , 0.00126263, 0.0004279 , 0.00054171, 0.00110619,\n",
       "       0.00040519, 0.00101215, 0.00091241, 0.00087642, 0.00055866,\n",
       "       0.00053996, 0.00132626, 0.0004531 , 0.00036832, 0.00073314,\n",
       "       0.00079808, 0.00050352, 0.00044763, 0.00126582, 0.00074627,\n",
       "       0.00062112, 0.00038168, 0.00080128, 0.0006105 , 0.00061652,\n",
       "       0.00043103, 0.00065963, 0.00066756, 0.00050994, 0.00041615,\n",
       "       0.0005144 , 0.0003686 , 0.00078678, 0.00053419, 0.0003962 ,\n",
       "       0.0007278 , 0.00096712, 0.00065876, 0.00055006, 0.00050226,\n",
       "       0.00057405, 0.00052219, 0.00062696, 0.00051867, 0.00086281,\n",
       "       0.00051177, 0.0004931 , 0.00034507, 0.00059737, 0.00102669,\n",
       "       0.00050277, 0.00088496, 0.00047192, 0.0003882 , 0.00098039,\n",
       "       0.0005637 , 0.00027716, 0.00045249, 0.00063613, 0.000819  ,\n",
       "       0.00069735, 0.00068213, 0.00050327, 0.00041356, 0.00029455,\n",
       "       0.0002317 , 0.0005848 , 0.00042123, 0.00063939, 0.00065147,\n",
       "       0.00057971, 0.00047348, 0.00064144, 0.00105485, 0.00108342,\n",
       "       0.00056465, 0.00085251, 0.000777  , 0.00082305, 0.00039588,\n",
       "       0.00041806, 0.00057339, 0.00037092, 0.00079051, 0.00051046,\n",
       "       0.00065703, 0.00088968, 0.00082372, 0.00056211, 0.0006435 ,\n",
       "       0.00044723, 0.00125628, 0.00087566, 0.00059382, 0.0005    ,\n",
       "       0.00061881, 0.00063452, 0.00050454, 0.0007764 , 0.000612  ,\n",
       "       0.00075643, 0.0005988 , 0.00046147, 0.00093545, 0.00052029,\n",
       "       0.00128205, 0.00120048, 0.00084531, 0.00035361, 0.00080257,\n",
       "       0.00052274, 0.00073638, 0.0006035 , 0.00119332, 0.00048544,\n",
       "       0.00072674, 0.00070822, 0.00068074, 0.0006993 , 0.00091408,\n",
       "       0.00054765, 0.00108225, 0.00059242, 0.00079239, 0.00052493,\n",
       "       0.00054675, 0.00103627, 0.00047438, 0.00080515, 0.00063573,\n",
       "       0.0004914 , 0.00081169, 0.00037679, 0.00048077, 0.00095511,\n",
       "       0.00055463, 0.00120192, 0.00054054, 0.00111235, 0.00046773,\n",
       "       0.0004948 , 0.0010661 , 0.00070126, 0.00091075, 0.00137174,\n",
       "       0.00063131, 0.00066401, 0.00057274, 0.00043725, 0.00126743,\n",
       "       0.00096061, 0.00052411, 0.00044111, 0.00114286, 0.00063816,\n",
       "       0.00035436, 0.00072569, 0.00057537, 0.00089767, 0.00094967,\n",
       "       0.00062775, 0.00032134, 0.0005211 , 0.00101937, 0.00058824,\n",
       "       0.00054348, 0.00039667, 0.000998  , 0.00118906, 0.00100402,\n",
       "       0.00058377, 0.00080906, 0.00051282, 0.00072411, 0.00046104,\n",
       "       0.00035817, 0.00106838, 0.00084674, 0.00059207, 0.00066138,\n",
       "       0.00129199, 0.00030883, 0.00059277, 0.0005102 , 0.0009434 ,\n",
       "       0.00069638, 0.00095785, 0.00053562, 0.00090909, 0.00043554,\n",
       "       0.00089047, 0.00114416, 0.00054377, 0.00053533, 0.00058411,\n",
       "       0.00081367, 0.000625  , 0.00162338, 0.00066445, 0.00088339,\n",
       "       0.00056689, 0.00065402, 0.00040866, 0.00085985, 0.00065574,\n",
       "       0.00106952, 0.00123001, 0.00049801, 0.00042937, 0.00064185,\n",
       "       0.00047393, 0.00055991, 0.00067797, 0.00072098, 0.00058548,\n",
       "       0.00041425, 0.00077942, 0.00064599, 0.00055218, 0.00081037,\n",
       "       0.00071124, 0.00043029, 0.0010989 , 0.00062073, 0.00064103,\n",
       "       0.00074738, 0.00084175, 0.0006854 , 0.00044248, 0.00083403,\n",
       "       0.00108108, 0.0011976 , 0.00040552, 0.00046361, 0.00037979,\n",
       "       0.0009542 , 0.00127551, 0.00078186, 0.00082576, 0.00058582,\n",
       "       0.00075815, 0.00102987, 0.00094162, 0.00071174, 0.00059844,\n",
       "       0.0009311 , 0.00108932, 0.00064267, 0.00052798, 0.00050684,\n",
       "       0.0003358 , 0.00067843, 0.00096899, 0.00092851, 0.00080972,\n",
       "       0.00099404, 0.00045106, 0.00063654, 0.00047778, 0.00130378,\n",
       "       0.00087108, 0.00050761, 0.00035587, 0.00038023, 0.00043975,\n",
       "       0.00079302, 0.00067295, 0.00129366, 0.00065062, 0.00081633,\n",
       "       0.00067981, 0.00115075, 0.00058789, 0.00060569, 0.00107759,\n",
       "       0.00060938, 0.00060459, 0.00042283, 0.00093721, 0.00064226])"
      ]
     },
     "execution_count": 32,
     "metadata": {},
     "output_type": "execute_result"
    }
   ],
   "source": [
    "train_t['GrLivArea'].unique()"
   ]
  },
  {
   "cell_type": "code",
   "execution_count": 33,
   "metadata": {},
   "outputs": [
    {
     "data": {
      "text/plain": [
       "<matplotlib.axes._subplots.AxesSubplot at 0x9a4b30b198>"
      ]
     },
     "execution_count": 33,
     "metadata": {},
     "output_type": "execute_result"
    },
    {
     "data": {
      "image/png": "[encoded data removed]",
      "text/plain": [
       "<Figure size 432x288 with 1 Axes>"
      ]
     },
     "metadata": {
      "needs_background": "light"
     },
     "output_type": "display_data"
    }
   ],
   "source": [
    "# transformed variable\n",
    "train_t['GrLivArea'].hist(bins=50)"
   ]
  },
  {
   "cell_type": "code",
   "execution_count": 34,
   "metadata": {},
   "outputs": [
    {
     "data": {
      "text/plain": [
       "<matplotlib.axes._subplots.AxesSubplot at 0x9a4c3b0198>"
      ]
     },
     "execution_count": 34,
     "metadata": {},
     "output_type": "execute_result"
    },
    {
     "data": {
      "image/png": "[encoded data removed]",
      "text/plain": [
       "<Figure size 432x288 with 1 Axes>"
      ]
     },
     "metadata": {
      "needs_background": "light"
     },
     "output_type": "display_data"
    }
   ],
   "source": [
    "# transformed variable\n",
    "train_t['LotArea'].hist(bins=50)"
   ]
  },
  {
   "cell_type": "markdown",
   "metadata": {},
   "source": [
    "## PowerTransformer"
   ]
  },
  {
   "cell_type": "code",
   "execution_count": 16,
   "metadata": {},
   "outputs": [
    {
     "data": {
      "text/plain": [
       "PowerTransformer(exp=0.5, variables=['LotArea', 'GrLivArea'])"
      ]
     },
     "execution_count": 16,
     "metadata": {},
     "output_type": "execute_result"
    }
   ],
   "source": [
    "et = vt.PowerTransformer(variables = ['LotArea', 'GrLivArea'])\n",
    "\n",
    "et.fit(X_train)"
   ]
  },
  {
   "cell_type": "code",
   "execution_count": 17,
   "metadata": {},
   "outputs": [],
   "source": [
    "train_t = et.transform(X_train)\n",
    "test_t = et.transform(X_test)"
   ]
  },
  {
   "cell_type": "code",
   "execution_count": 18,
   "metadata": {},
   "outputs": [
    {
     "data": {
      "text/plain": [
       "<matplotlib.axes._subplots.AxesSubplot at 0x9a4aa20c18>"
      ]
     },
     "execution_count": 18,
     "metadata": {},
     "output_type": "execute_result"
    },
    {
     "data": {
      "image/png": "[encoded data removed]",
      "text/plain": [
       "<Figure size 432x288 with 1 Axes>"
      ]
     },
     "metadata": {
      "needs_background": "light"
     },
     "output_type": "display_data"
    }
   ],
   "source": [
    "# transformed variable\n",
    "train_t['GrLivArea'].hist(bins=50)"
   ]
  },
  {
   "cell_type": "code",
   "execution_count": 19,
   "metadata": {},
   "outputs": [
    {
     "data": {
      "text/plain": [
       "<matplotlib.axes._subplots.AxesSubplot at 0x9a4aefab38>"
      ]
     },
     "execution_count": 19,
     "metadata": {},
     "output_type": "execute_result"
    },
    {
     "data": {
      "image/png": "[encoded data removed]",
      "text/plain": [
       "<Figure size 432x288 with 1 Axes>"
      ]
     },
     "metadata": {
      "needs_background": "light"
     },
     "output_type": "display_data"
    }
   ],
   "source": [
    "# transformed variable\n",
    "train_t['LotArea'].hist(bins=50)"
   ]
  },
  {
   "cell_type": "markdown",
   "metadata": {},
   "source": [
    "## BoxCoxTransformer"
   ]
  },
  {
   "cell_type": "code",
   "execution_count": 20,
   "metadata": {},
   "outputs": [
    {
     "data": {
      "text/plain": [
       "BoxCoxTransformer(variables=['LotArea', 'GrLivArea'])"
      ]
     },
     "execution_count": 20,
     "metadata": {},
     "output_type": "execute_result"
    }
   ],
   "source": [
    "bct = vt.BoxCoxTransformer(variables = ['LotArea', 'GrLivArea'])\n",
    "\n",
    "bct.fit(X_train)"
   ]
  },
  {
   "cell_type": "code",
   "execution_count": 21,
   "metadata": {},
   "outputs": [
    {
     "data": {
      "text/plain": [
       "{'LotArea': 0.02271696198147638, 'GrLivArea': 0.06854342938906119}"
      ]
     },
     "execution_count": 21,
     "metadata": {},
     "output_type": "execute_result"
    }
   ],
   "source": [
    "# these are the exponents for the BoxCox transformation\n",
    "bct.lambda_dict_"
   ]
  },
  {
   "cell_type": "code",
   "execution_count": 22,
   "metadata": {},
   "outputs": [],
   "source": [
    "train_t = bct.transform(X_train)\n",
    "test_t = bct.transform(X_test)"
   ]
  },
  {
   "cell_type": "code",
   "execution_count": 23,
   "metadata": {},
   "outputs": [
    {
     "data": {
      "text/plain": [
       "<matplotlib.axes._subplots.AxesSubplot at 0x9a49da01d0>"
      ]
     },
     "execution_count": 23,
     "metadata": {},
     "output_type": "execute_result"
    },
    {
     "data": {
      "image/png": "[encoded data removed]",
      "text/plain": [
       "<Figure size 432x288 with 1 Axes>"
      ]
     },
     "metadata": {
      "needs_background": "light"
     },
     "output_type": "display_data"
    }
   ],
   "source": [
    "# transformed variable\n",
    "train_t['GrLivArea'].hist(bins=50)"
   ]
  },
  {
   "cell_type": "code",
   "execution_count": 24,
   "metadata": {},
   "outputs": [
    {
     "data": {
      "text/plain": [
       "<matplotlib.axes._subplots.AxesSubplot at 0x9a4b08a358>"
      ]
     },
     "execution_count": 24,
     "metadata": {},
     "output_type": "execute_result"
    },
    {
     "data": {
      "image/png": "[encoded data removed]",
      "text/plain": [
       "<Figure size 432x288 with 1 Axes>"
      ]
     },
     "metadata": {
      "needs_background": "light"
     },
     "output_type": "display_data"
    }
   ],
   "source": [
    "# transformed variable\n",
    "train_t['LotArea'].hist(bins=50)"
   ]
  },
  {
   "cell_type": "markdown",
   "metadata": {
    "collapsed": true
   },
   "source": [
    "## YeoJohnsonTransformer"
   ]
  },
  {
   "cell_type": "code",
   "execution_count": 25,
   "metadata": {},
   "outputs": [
    {
     "data": {
      "text/plain": [
       "YeoJohnsonTransformer(variables=['LotArea', 'GrLivArea'])"
      ]
     },
     "execution_count": 25,
     "metadata": {},
     "output_type": "execute_result"
    }
   ],
   "source": [
    "yjt = vt.YeoJohnsonTransformer(variables = ['LotArea', 'GrLivArea'])\n",
    "\n",
    "yjt.fit(X_train)"
   ]
  },
  {
   "cell_type": "code",
   "execution_count": 26,
   "metadata": {},
   "outputs": [
    {
     "data": {
      "text/plain": [
       "{'LotArea': 0.02258978732751055, 'GrLivArea': 0.06781061353154169}"
      ]
     },
     "execution_count": 26,
     "metadata": {},
     "output_type": "execute_result"
    }
   ],
   "source": [
    "# these are the exponents for the BoxCox transformation\n",
    "yjt.lambda_dict_"
   ]
  },
  {
   "cell_type": "code",
   "execution_count": 27,
   "metadata": {},
   "outputs": [],
   "source": [
    "train_t = yjt.transform(X_train)\n",
    "test_t = yjt.transform(X_test)"
   ]
  },
  {
   "cell_type": "code",
   "execution_count": 28,
   "metadata": {},
   "outputs": [
    {
     "data": {
      "text/plain": [
       "<matplotlib.axes._subplots.AxesSubplot at 0x9a4b16fc88>"
      ]
     },
     "execution_count": 28,
     "metadata": {},
     "output_type": "execute_result"
    },
    {
     "data": {
      "image/png": "[encoded data removed]",
      "text/plain": [
       "<Figure size 432x288 with 1 Axes>"
      ]
     },
     "metadata": {
      "needs_background": "light"
     },
     "output_type": "display_data"
    }
   ],
   "source": [
    "# transformed variable\n",
    "train_t['GrLivArea'].hist(bins=50)"
   ]
  },
  {
   "cell_type": "code",
   "execution_count": 29,
   "metadata": {},
   "outputs": [
    {
     "data": {
      "text/plain": [
       "<matplotlib.axes._subplots.AxesSubplot at 0x9a4b221898>"
      ]
     },
     "execution_count": 29,
     "metadata": {},
     "output_type": "execute_result"
    },
    {
     "data": {
      "image/png": "[encoded data removed]",
      "text/plain": [
       "<Figure size 432x288 with 1 Axes>"
      ]
     },
     "metadata": {
      "needs_background": "light"
     },
     "output_type": "display_data"
    }
   ],
   "source": [
    "# transformed variable\n",
    "train_t['LotArea'].hist(bins=50)"
   ]
  },
  {
   "cell_type": "code",
   "execution_count": null,
   "metadata": {},
   "outputs": [],
   "source": []
  }
 ],
 "metadata": {
  "kernelspec": {
   "display_name": "feml",
   "language": "python",
   "name": "feml"
  },
  "language_info": {
   "codemirror_mode": {
    "name": "ipython",
    "version": 3
   },
   "file_extension": ".py",
   "mimetype": "text/x-python",
   "name": "python",
   "nbconvert_exporter": "python",
   "pygments_lexer": "ipython3",
   "version": "3.7.3"
  },
  "toc": {
   "nav_menu": {},
   "number_sections": true,
   "sideBar": true,
   "skip_h1_title": false,
   "toc_cell": false,
   "toc_position": {},
   "toc_section_display": "block",
   "toc_window_display": true
  }
 },
 "nbformat": 4,
 "nbformat_minor": 2
}
